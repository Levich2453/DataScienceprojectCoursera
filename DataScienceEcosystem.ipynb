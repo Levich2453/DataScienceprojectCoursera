{
 "cells": [
  {
   "cell_type": "markdown",
   "id": "3a98b62e-4187-486e-b2b8-d1f7b737f70e",
   "metadata": {},
   "source": [
    "Data Science Tools and Ecosystem"
   ]
  },
  {
   "cell_type": "markdown",
   "id": "f4b04600-cc3f-4c34-8656-1f04f082381a",
   "metadata": {},
   "source": [
    "In this introduction, Data Science Tools and Ecosystem are summarized"
   ]
  },
  {
   "cell_type": "markdown",
   "id": "ce96df45-0fb7-4485-8c7c-188d6caa3ad9",
   "metadata": {},
   "source": [
    "Some of the common languages that datascientists use are\n",
    "1. Python\n",
    "2. SQL\n",
    "3. R"
   ]
  },
  {
   "cell_type": "markdown",
   "id": "1f575f49-ee0a-4286-ad57-11931421616c",
   "metadata": {},
   "source": [
    "Some of the commonly used libraries used by Data Scientists\n",
    "1. Pandas\n",
    "2. Numpy\n",
    "3. Matplotlib"
   ]
  },
  {
   "cell_type": "markdown",
   "id": "8f9bc51b-7411-4620-acfc-ed8d42664b22",
   "metadata": {},
   "source": [
    "Data Science Tools\n",
    "1. IBM Watson Studio\n",
    "2. IBM Auto AI\n",
    "3. IBM Watson OpenScale"
   ]
  },
  {
   "cell_type": "markdown",
   "id": "31baf000-e703-4573-89a2-003272280b7f",
   "metadata": {},
   "source": [
    "### Below are a few examples of evaluating arithmetic expressions in Python"
   ]
  },
  {
   "cell_type": "code",
   "execution_count": 8,
   "id": "4b448e9b-89a6-4736-906e-4c8eb57851a1",
   "metadata": {},
   "outputs": [
    {
     "data": {
      "text/plain": [
       "17"
      ]
     },
     "execution_count": 8,
     "metadata": {},
     "output_type": "execute_result"
    }
   ],
   "source": [
    "# This is a simple arithmetic expression to multiply then add integers\n",
    "(3*4)+5"
   ]
  },
  {
   "cell_type": "code",
   "execution_count": 10,
   "id": "197b1e93-0487-4186-92b1-ba1ebe238808",
   "metadata": {},
   "outputs": [
    {
     "data": {
      "text/plain": [
       "3.3333333333333335"
      ]
     },
     "execution_count": 10,
     "metadata": {},
     "output_type": "execute_result"
    }
   ],
   "source": [
    "#This will convert 200 minutes to hours by diving by 60\n",
    "200/60"
   ]
  },
  {
   "cell_type": "markdown",
   "id": "b64f1170-f0f9-4bc9-8ac3-e21f3a1d935a",
   "metadata": {},
   "source": [
    "**Objectives**\n",
    "* List Popular Languages for Data Scientists\n",
    "* List the Commonly used Libraries for Data Scientists\n",
    "* List Data Science Tools"
   ]
  },
  {
   "cell_type": "markdown",
   "id": "a3d941f7-3c80-4feb-80d1-c96ea8002b5b",
   "metadata": {},
   "source": [
    "## Author\n",
    "Levi Hesley"
   ]
  },
  {
   "cell_type": "code",
   "execution_count": null,
   "id": "85370ac0-5228-4ffc-9102-6dd2e1d08070",
   "metadata": {},
   "outputs": [],
   "source": []
  }
 ],
 "metadata": {
  "kernelspec": {
   "display_name": "Python 3 (ipykernel)",
   "language": "python",
   "name": "python3"
  },
  "language_info": {
   "codemirror_mode": {
    "name": "ipython",
    "version": 3
   },
   "file_extension": ".py",
   "mimetype": "text/x-python",
   "name": "python",
   "nbconvert_exporter": "python",
   "pygments_lexer": "ipython3",
   "version": "3.12.7"
  }
 },
 "nbformat": 4,
 "nbformat_minor": 5
}
